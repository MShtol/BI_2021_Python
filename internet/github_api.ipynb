{
 "cells": [
  {
   "cell_type": "markdown",
   "metadata": {},
   "source": [
    "## github api"
   ]
  },
  {
   "cell_type": "code",
   "execution_count": 1,
   "metadata": {},
   "outputs": [],
   "source": [
    "import requests\n",
    "from bs4 import BeautifulSoup"
   ]
  },
  {
   "cell_type": "markdown",
   "metadata": {},
   "source": [
    "### 1. get_user_info(username)\n",
    "\n",
    "возвращает словарь с информацией о юзере. Ключи: имя (которое НЕ никнейм), организация, местоположение, число подписчиков, число репозиториев."
   ]
  },
  {
   "cell_type": "code",
   "execution_count": 60,
   "metadata": {},
   "outputs": [],
   "source": [
    "def get_user_info(username):\n",
    "    \"\"\"\n",
    "    This function accept GitHub username and parses from it Name, Organization, Location, number of public repos\n",
    "    and number of followers\n",
    "    @ return: user_info, dict\n",
    "    \"\"\"\n",
    "    url = 'https://github.com/' + username\n",
    "    req = requests.get(url)\n",
    "    soup = BeautifulSoup(req.content)\n",
    "    user_info = {'Name':None, 'Organization':None, 'Location':None, 'n_repos':None, 'n_subscribers':None}\n",
    "    try:\n",
    "        user_info['Name'] = soup.find('span', itemprop = 'name').text.strip()\n",
    "    except:\n",
    "        pass\n",
    "    try:\n",
    "        user_info['Organization'] = soup.find(\"span\", class_=\"p-org\").text\n",
    "    except:\n",
    "        pass\n",
    "    try:\n",
    "        user_info['Location'] = soup.find('span',class_=\"p-label\").text\n",
    "    except:\n",
    "        pass\n",
    "    try:\n",
    "        user_info['n_repos'] = int(soup.find('span', class_='Counter').text)\n",
    "    except:\n",
    "        pass\n",
    "    try:\n",
    "        user_info['n_subscribers'] = int(soup.find('span', class_ = \"text-bold color-fg-default\").text)\n",
    "    except:\n",
    "        pass\n",
    "    \n",
    "    return user_info"
   ]
  },
  {
   "cell_type": "markdown",
   "metadata": {},
   "source": [
    "### 2. get_user_repositories(username)\n",
    "get_user_repositories(username) - возвращает список публичных репозиториев пользователя в виде списка словарей. Ключи: юзер, имя репозитория, язык."
   ]
  },
  {
   "cell_type": "code",
   "execution_count": 46,
   "metadata": {},
   "outputs": [
    {
     "data": {
      "text/plain": [
       "[{'User': 'MShtol', 'repo_name': 'BI_2021_Python', 'lang': 'Jupyter Notebook'},\n",
       " {'User': 'MShtol', 'repo_name': 'BI_ML_2021', 'lang': 'Jupyter Notebook'},\n",
       " {'User': 'MShtol', 'repo_name': 'BI_Stat_2021', 'lang': None},\n",
       " {'User': 'MShtol', 'repo_name': 'ml-mipt', 'lang': 'Jupyter Notebook'},\n",
       " {'User': 'MShtol',\n",
       "  'repo_name': 'multi-omics-hackathon',\n",
       "  'lang': 'Jupyter Notebook'},\n",
       " {'User': 'MShtol', 'repo_name': 'repseq-annotation-tutorial', 'lang': 'TeX'}]"
      ]
     },
     "execution_count": 46,
     "metadata": {},
     "output_type": "execute_result"
    }
   ],
   "source": [
    "def get_user_repositories(username):\n",
    "    \"\"\"\n",
    "    This function accepts GitHub username and parses his repos names and languages.\n",
    "    @ return: repos, list of dict\n",
    "    \"\"\"\n",
    "    url = 'https://github.com/' + username + '?tab=repositories'\n",
    "    req = requests.get(url)\n",
    "    soup = BeautifulSoup(req.content)\n",
    "    repo_soup = soup.find('div', id=\"user-repositories-list\").find_all(\"li\")\n",
    "    repos = []\n",
    "    for i in range(len(repo_soup)):\n",
    "        repo_dict = {'User':username, \"repo_name\": None, 'lang':None}\n",
    "        try:\n",
    "            repo_dict[\"repo_name\"] = repo_soup[i].find('a', itemprop=\"name codeRepository\").text.strip()\n",
    "        except:\n",
    "            pass\n",
    "        try:\n",
    "            repo_dict['lang'] = repo_soup[i].find('span', itemprop=\"programmingLanguage\").text\n",
    "        except:\n",
    "            pass\n",
    "        repos.append(repo_dict)\n",
    "    return repos"
   ]
  },
  {
   "cell_type": "markdown",
   "metadata": {},
   "source": [
    "### 3. list_repository_contents(username, repository, repository_path) \n",
    "возвращает список файлов и папок в репозитории repository пользователя username по пути repository_path. По сути это аналогично использованию \"ls repository_path\" локально, мы просто выводим список файлов по указанному пути."
   ]
  },
  {
   "cell_type": "code",
   "execution_count": 54,
   "metadata": {},
   "outputs": [
    {
     "data": {
      "text/plain": [
       "['.github/workflows',\n",
       " 'numpy_challenge',\n",
       " 're',\n",
       " 'Ci_Bq_converter.py',\n",
       " 'README.md',\n",
       " 'fastq_filtrator.py',\n",
       " 'random.ipynb',\n",
       " 'seq_magic.py']"
      ]
     },
     "execution_count": 54,
     "metadata": {},
     "output_type": "execute_result"
    }
   ],
   "source": [
    "def list_repository_contents(username, repository, repository_path = None):\n",
    "    \"\"\"\n",
    "    This function accepts GitHub username, and repo name and returns it's content list.\n",
    "    @ return: repos, list of dict\n",
    "    \"\"\"\n",
    "    # repository_path - spare variable\n",
    "    url = 'https://github.com/' + username + '/' + repository\n",
    "    req = requests.get(url)\n",
    "    soup = BeautifulSoup(req.content)\n",
    "    rep_cont = []\n",
    "    rowheads = soup.find_all('div', role='rowheader')\n",
    "    for rowhead in rowheads:\n",
    "        rep_cont.append(rowhead.text.strip())\n",
    "    return rep_cont"
   ]
  },
  {
   "cell_type": "markdown",
   "metadata": {},
   "source": [
    "### 4. download_file(username, repository, remote_file_path, local_file_path) \n",
    "\n",
    "скачивание файла, который имеет путь remote_file_path в репозитории и сохранение локально по пути local_file_path. При попытке скачать папку можно бросить исключение или же скачать всю папку."
   ]
  },
  {
   "cell_type": "code",
   "execution_count": 56,
   "metadata": {},
   "outputs": [],
   "source": [
    "def download_file(username, repository, remote_file_path, local_file_path):\n",
    "    \"\"\"\n",
    "    This function accepts GitHub username, and repo name, remote file path (down from the level of repo name)\n",
    "    and local path file. All paths should start with '/',\n",
    "    Downoloads file to the local path\n",
    "    \"\"\"\n",
    "    # repository_path - spare variable\n",
    "    url = 'https://raw.githubusercontent.com/'+username+'/'+repository+remote_file_path\n",
    "    req = requests.get(url)\n",
    "    name = remote_file_path.split('/')[-1]\n",
    "    if not req.ok:\n",
    "        print(\"Wrong path or it's a directory\")\n",
    "    else:\n",
    "        with open(local_file_path+name, 'wb') as f:\n",
    "                f.write(req.content)\n",
    "                \n"
   ]
  },
  {
   "cell_type": "markdown",
   "metadata": {},
   "source": [
    "**Tests**"
   ]
  },
  {
   "cell_type": "code",
   "execution_count": 57,
   "metadata": {},
   "outputs": [],
   "source": [
    "username = 'MShtol'\n",
    "repository = 'BI_2021_Python'"
   ]
  },
  {
   "cell_type": "code",
   "execution_count": 61,
   "metadata": {},
   "outputs": [
    {
     "data": {
      "text/plain": [
       "{'Name': 'Mikhail',\n",
       " 'Organization': 'IPR RAS',\n",
       " 'Location': 'Moscow',\n",
       " 'n_repos': 6,\n",
       " 'n_subscribers': 0}"
      ]
     },
     "execution_count": 61,
     "metadata": {},
     "output_type": "execute_result"
    }
   ],
   "source": [
    "get_user_info(username)"
   ]
  },
  {
   "cell_type": "code",
   "execution_count": 59,
   "metadata": {},
   "outputs": [
    {
     "data": {
      "text/plain": [
       "[{'User': 'MShtol', 'repo_name': 'BI_2021_Python', 'lang': 'Jupyter Notebook'},\n",
       " {'User': 'MShtol', 'repo_name': 'BI_ML_2021', 'lang': 'Jupyter Notebook'},\n",
       " {'User': 'MShtol', 'repo_name': 'BI_Stat_2021', 'lang': None},\n",
       " {'User': 'MShtol', 'repo_name': 'ml-mipt', 'lang': 'Jupyter Notebook'},\n",
       " {'User': 'MShtol',\n",
       "  'repo_name': 'multi-omics-hackathon',\n",
       "  'lang': 'Jupyter Notebook'},\n",
       " {'User': 'MShtol', 'repo_name': 'repseq-annotation-tutorial', 'lang': 'TeX'}]"
      ]
     },
     "execution_count": 59,
     "metadata": {},
     "output_type": "execute_result"
    }
   ],
   "source": [
    "get_user_repositories(username)"
   ]
  },
  {
   "cell_type": "code",
   "execution_count": 62,
   "metadata": {},
   "outputs": [
    {
     "data": {
      "text/plain": [
       "['.github/workflows',\n",
       " 'numpy_challenge',\n",
       " 're',\n",
       " 'Ci_Bq_converter.py',\n",
       " 'README.md',\n",
       " 'fastq_filtrator.py',\n",
       " 'random.ipynb',\n",
       " 'seq_magic.py']"
      ]
     },
     "execution_count": 62,
     "metadata": {},
     "output_type": "execute_result"
    }
   ],
   "source": [
    "list_repository_contents(username, repository)"
   ]
  },
  {
   "cell_type": "code",
   "execution_count": 63,
   "metadata": {},
   "outputs": [],
   "source": [
    "download_file(username, repository, '/main/seq_magic.py', './')"
   ]
  },
  {
   "cell_type": "code",
   "execution_count": 64,
   "metadata": {},
   "outputs": [],
   "source": [
    "import requests\n",
    "from bs4 import BeautifulSoup"
   ]
  },
  {
   "cell_type": "code",
   "execution_count": 67,
   "metadata": {},
   "outputs": [
    {
     "ename": "NameError",
     "evalue": "name 'bs4' is not defined",
     "output_type": "error",
     "traceback": [
      "\u001b[0;31m---------------------------------------------------------------------------\u001b[0m",
      "\u001b[0;31mNameError\u001b[0m                                 Traceback (most recent call last)",
      "\u001b[0;32m<ipython-input-67-7cbe897b29ad>\u001b[0m in \u001b[0;36m<module>\u001b[0;34m\u001b[0m\n\u001b[0;32m----> 1\u001b[0;31m \u001b[0mbs4\u001b[0m\u001b[0;34m.\u001b[0m\u001b[0m__version__\u001b[0m\u001b[0;34m\u001b[0m\u001b[0;34m\u001b[0m\u001b[0m\n\u001b[0m",
      "\u001b[0;31mNameError\u001b[0m: name 'bs4' is not defined"
     ]
    }
   ],
   "source": [
    "bs4.__version__"
   ]
  },
  {
   "cell_type": "markdown",
   "metadata": {},
   "source": [
    "requests==2.27.1\n",
    "beautifulsoup4==4.10.0"
   ]
  }
 ],
 "metadata": {
  "kernelspec": {
   "display_name": "Python 3",
   "language": "python",
   "name": "python3"
  },
  "language_info": {
   "codemirror_mode": {
    "name": "ipython",
    "version": 3
   },
   "file_extension": ".py",
   "mimetype": "text/x-python",
   "name": "python",
   "nbconvert_exporter": "python",
   "pygments_lexer": "ipython3",
   "version": "3.8.5"
  }
 },
 "nbformat": 4,
 "nbformat_minor": 4
}
